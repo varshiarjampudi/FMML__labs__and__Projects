{
  "cells": [
    {
      "cell_type": "markdown",
      "metadata": {
        "id": "view-in-github",
        "colab_type": "text"
      },
      "source": [
        "<a href=\"https://colab.research.google.com/github/varshiarjampudi/FMML__labs__and__Projects/blob/main/FMML_M1L2.ipynb\" target=\"_parent\"><img src=\"https://colab.research.google.com/assets/colab-badge.svg\" alt=\"Open In Colab\"/></a>"
      ]
    },
    {
      "cell_type": "markdown",
      "metadata": {
        "id": "3Eu9VZbF01eq"
      },
      "source": [
        "# Machine Learning terms and metrics\n",
        "\n",
        "FMML Module 1, Lab 2\n",
        "\n",
        "In this lab, we will show a part of the ML pipeline by using the California Housing dataset. There are 20640 samples, each with 8 attributes like income of the block, age of the houses per district etc. The task is to predict the cost of the houses per district. We will use the scikit-learn library to load the data and perform some basic data preprocessing and model training. We will also show how to evaluate the model using some common metrics, split the data into training and testing sets, and use cross-validation to get a better estimate of the model's performance."
      ]
    },
    {
      "cell_type": "code",
      "execution_count": null,
      "metadata": {
        "id": "8qBvyEem0vLi"
      },
      "outputs": [],
      "source": [
        "import numpy as np\n",
        "from sklearn import datasets\n",
        "import matplotlib.pyplot as plt\n",
        "\n",
        "rng = np.random.default_rng(seed=42)"
      ]
    },
    {
      "cell_type": "code",
      "execution_count": null,
      "metadata": {
        "id": "8LpqjN991GGJ"
      },
      "outputs": [],
      "source": [
        "dataset = datasets.fetch_california_housing()\n",
        "# Dataset description\n",
        "print(dataset.DESCR)"
      ]
    },
    {
      "cell_type": "markdown",
      "metadata": {
        "id": "PCe1VNftevgE"
      },
      "source": [
        "Given below are the list of target values. These correspond to the house value derived considering all the 8 input features and are continuous values. We should use regression models to predict these values but we will start with a simple classification model for the sake of simplicity. We need to just round off the values to the nearest integer and use a classification model to predict the house value."
      ]
    },
    {
      "cell_type": "code",
      "execution_count": null,
      "metadata": {
        "id": "F8K0ggBOevgE"
      },
      "outputs": [],
      "source": [
        "print(\"Orignal target values:\", dataset.target)\n",
        "\n",
        "dataset.target = dataset.target.astype(int)\n",
        "\n",
        "print(\"Target values after conversion:\", dataset.target)\n",
        "print(\"Input variables shape:\", dataset.data.shape)\n",
        "print(\"Output variables shape:\", dataset.target.shape)"
      ]
    },
    {
      "cell_type": "markdown",
      "metadata": {
        "id": "iNx4174W5xRg"
      },
      "source": [
        "The simplest model to use for classification is the K-Nearest Neighbors model. We will use this model to predict the house value with a K value of 1. We will also use the accuracy metric to evaluate the model."
      ]
    },
    {
      "cell_type": "code",
      "execution_count": null,
      "metadata": {
        "id": "07zpydQj1hIQ"
      },
      "outputs": [],
      "source": [
        "def NN1(traindata, trainlabel, query):\n",
        "    \"\"\"\n",
        "    This function takes in the training data, training labels and a query point\n",
        "    and returns the predicted label for the query point using the nearest neighbour algorithm\n",
        "\n",
        "    traindata: numpy array of shape (n,d) where n is the number of samples and d is the number of features\n",
        "    trainlabel: numpy array of shape (n,) where n is the number of samples\n",
        "    query: numpy array of shape (d,) where d is the number of features\n",
        "\n",
        "    returns: the predicted label for the query point which is the label of the training data which is closest to the query point\n",
        "    \"\"\"\n",
        "    diff = (\n",
        "        traindata - query\n",
        "    )  # find the difference between features. Numpy automatically takes care of the size here\n",
        "    sq = diff * diff  # square the differences\n",
        "    dist = sq.sum(1)  # add up the squares\n",
        "    label = trainlabel[np.argmin(dist)]\n",
        "    return label\n",
        "\n",
        "\n",
        "def NN(traindata, trainlabel, testdata):\n",
        "    \"\"\"\n",
        "    This function takes in the training data, training labels and test data\n",
        "    and returns the predicted labels for the test data using the nearest neighbour algorithm\n",
        "\n",
        "    traindata: numpy array of shape (n,d) where n is the number of samples and d is the number of features\n",
        "    trainlabel: numpy array of shape (n,) where n is the number of samples\n",
        "    testdata: numpy array of shape (m,d) where m is the number of test samples and d is the number of features\n",
        "\n",
        "    returns: the predicted labels for the test data which is the label of the training data which is closest to each test point\n",
        "    \"\"\"\n",
        "    predlabel = np.array([NN1(traindata, trainlabel, i) for i in testdata])\n",
        "    return predlabel"
      ]
    },
    {
      "cell_type": "markdown",
      "metadata": {
        "id": "03JktkfIGaje"
      },
      "source": [
        "We will also define a 'random classifier', which randomly allots labels to each sample"
      ]
    },
    {
      "cell_type": "code",
      "execution_count": null,
      "metadata": {
        "id": "fogWAtjyGhAH"
      },
      "outputs": [],
      "source": [
        "def RandomClassifier(traindata, trainlabel, testdata):\n",
        "    \"\"\"\n",
        "    This function takes in the training data, training labels and test data\n",
        "    and returns the predicted labels for the test data using the random classifier algorithm\n",
        "\n",
        "    In reality, we don't need these arguments but we are passing them to keep the function signature consistent with other classifiers\n",
        "\n",
        "    traindata: numpy array of shape (n,d) where n is the number of samples and d is the number of features\n",
        "    trainlabel: numpy array of shape (n,) where n is the number of samples\n",
        "    testdata: numpy array of shape (m,d) where m is the number of test samples and d is the number of features\n",
        "\n",
        "    returns: the predicted labels for the test data which is a random label from the training data\n",
        "    \"\"\"\n",
        "\n",
        "    classes = np.unique(trainlabel)\n",
        "    rints = rng.integers(low=0, high=len(classes), size=len(testdata))\n",
        "    predlabel = classes[rints]\n",
        "    return predlabel"
      ]
    },
    {
      "cell_type": "markdown",
      "metadata": {
        "id": "1Hjf1KHs7fU5"
      },
      "source": [
        "We need a metric to evaluate the performance of the model. Let us define a metric 'Accuracy' to see how good our learning algorithm is. Accuracy is the ratio of the number of correctly classified samples to the total number of samples. The higher the accuracy, the better the algorithm. We will use the accuracy metric to evaluate and compate the performance of the K-Nearest Neighbors model and the random classifier."
      ]
    },
    {
      "cell_type": "code",
      "execution_count": null,
      "metadata": {
        "id": "ouuCqWU07bz-"
      },
      "outputs": [],
      "source": [
        "def Accuracy(gtlabel, predlabel):\n",
        "    \"\"\"\n",
        "    This function takes in the ground-truth labels and predicted labels\n",
        "    and returns the accuracy of the classifier\n",
        "\n",
        "    gtlabel: numpy array of shape (n,) where n is the number of samples\n",
        "    predlabel: numpy array of shape (n,) where n is the number of samples\n",
        "\n",
        "    returns: the accuracy of the classifier which is the number of correct predictions divided by the total number of predictions\n",
        "    \"\"\"\n",
        "    assert len(gtlabel) == len(\n",
        "        predlabel\n",
        "    ), \"Length of the ground-truth labels and predicted labels should be the same\"\n",
        "    correct = (\n",
        "        gtlabel == predlabel\n",
        "    ).sum()  # count the number of times the groundtruth label is equal to the predicted label.\n",
        "    return correct / len(gtlabel)"
      ]
    },
    {
      "cell_type": "markdown",
      "metadata": {
        "id": "4vJFwBFa9Klw"
      },
      "source": [
        "Let us make a function to split the dataset with the desired probability. We will use this function to split the dataset into training and testing sets. We will use the training set to train the model and the testing set to evaluate the model."
      ]
    },
    {
      "cell_type": "code",
      "execution_count": null,
      "metadata": {
        "id": "Ko0VzpSM2Tdi"
      },
      "outputs": [],
      "source": [
        "def split(data, label, percent):\n",
        "    # generate a random number for each sample\n",
        "    rnd = rng.random(len(label))\n",
        "    split1 = rnd < percent\n",
        "    split2 = rnd >= percent\n",
        "\n",
        "    split1data = data[split1, :]\n",
        "    split1label = label[split1]\n",
        "    split2data = data[split2, :]\n",
        "    split2label = label[split2]\n",
        "    return split1data, split1label, split2data, split2label"
      ]
    },
    {
      "cell_type": "markdown",
      "metadata": {
        "id": "AcK3LEAJ_LGC"
      },
      "source": [
        "We will reserve 20% of our dataset as the test set. We will not change this portion throughout our experiments"
      ]
    },
    {
      "cell_type": "code",
      "execution_count": null,
      "metadata": {
        "id": "bBZkHBLJ1iU-"
      },
      "outputs": [],
      "source": [
        "testdata, testlabel, alltraindata, alltrainlabel = split(\n",
        "    dataset.data, dataset.target, 20 / 100\n",
        ")\n",
        "print(\"Number of test samples:\", len(testlabel))\n",
        "print(\"Number of train samples:\", len(alltrainlabel))\n",
        "print(\"Percent of test data:\", len(testlabel) * 100 / len(dataset.target), \"%\")"
      ]
    },
    {
      "cell_type": "markdown",
      "metadata": {
        "id": "a6Ss0Z6IAGNV"
      },
      "source": [
        "## Experiments with splits\n",
        "\n",
        "Let us reserve some of our train data as a validation set"
      ]
    },
    {
      "cell_type": "code",
      "execution_count": null,
      "metadata": {
        "id": "WFew2iry_7W7"
      },
      "outputs": [],
      "source": [
        "traindata, trainlabel, valdata, vallabel = split(\n",
        "    alltraindata, alltrainlabel, 75 / 100)"
      ]
    },
    {
      "cell_type": "markdown",
      "metadata": {
        "id": "60hiu4clFN1i"
      },
      "source": [
        "What is the accuracy of our classifiers on the train dataset?"
      ]
    },
    {
      "cell_type": "code",
      "execution_count": null,
      "metadata": {
        "id": "DBlZDTHUFTZx"
      },
      "outputs": [],
      "source": [
        "trainpred = NN(traindata, trainlabel, traindata)\n",
        "trainAccuracy = Accuracy(trainlabel, trainpred)\n",
        "print(\"Training accuracy using nearest neighbour algorithm:\", trainAccuracy*100, \"%\")\n",
        "\n",
        "trainpred = RandomClassifier(traindata, trainlabel, traindata)\n",
        "trainAccuracy = Accuracy(trainlabel, trainpred)\n",
        "print(\"Training accuracy using random classifier: \", trainAccuracy*100, \"%\")"
      ]
    },
    {
      "cell_type": "markdown",
      "metadata": {
        "id": "7h08-9gJDtSy"
      },
      "source": [
        "For nearest neighbour, the train accuracy is always 1. The accuracy of the random classifier is close to 1/(number of classes) which is 0.1666 in our case. This is because the random classifier randomly assigns a label to each sample and the probability of assigning the correct label is 1/(number of classes). Let us predict the labels for our validation set and get the accuracy. This accuracy is a good estimate of the accuracy of our model on unseen data."
      ]
    },
    {
      "cell_type": "code",
      "execution_count": null,
      "metadata": {
        "id": "4h7bXoW_2H3v"
      },
      "outputs": [],
      "source": [
        "valpred = NN(traindata, trainlabel, valdata)\n",
        "valAccuracy = Accuracy(vallabel, valpred)\n",
        "print(\"Validation accuracy using nearest neighbour algorithm:\", valAccuracy*100, \"%\")\n",
        "\n",
        "\n",
        "valpred = RandomClassifier(traindata, trainlabel, valdata)\n",
        "valAccuracy = Accuracy(vallabel, valpred)\n",
        "print(\"Validation accuracy using random classifier:\", valAccuracy*100, \"%\")"
      ]
    },
    {
      "cell_type": "markdown",
      "metadata": {
        "id": "py9bLguFEjfg"
      },
      "source": [
        "Validation accuracy of nearest neighbour is considerably less than its train accuracy while the validation accuracy of random classifier is the same. However, the validation accuracy of nearest neighbour is twice that of the random classifier. Now let us try another random split and check the validation accuracy. We will see that the validation accuracy changes with the split. This is because the validation set is small and the accuracy is highly dependent on the samples in the validation set. We can get a better estimate of the accuracy by using cross-validation."
      ]
    },
    {
      "cell_type": "code",
      "execution_count": null,
      "metadata": {
        "id": "ujm3cyYzEntE"
      },
      "outputs": [],
      "source": [
        "traindata, trainlabel, valdata, vallabel = split(\n",
        "    alltraindata, alltrainlabel, 75 / 100)\n",
        "valpred = NN(traindata, trainlabel, valdata)\n",
        "valAccuracy = Accuracy(vallabel, valpred)\n",
        "print(\"Validation accuracy using nearest neighbour algorithm:\", valAccuracy*100, \"%\")"
      ]
    },
    {
      "cell_type": "markdown",
      "metadata": {
        "id": "oSOx7U83EKie"
      },
      "source": [
        "You can run the above cell multiple times to try with different random splits.\n",
        "We notice that the accuracy is different for each run, but close together.\n",
        "\n",
        "Now let us compare it with the accuracy we get on the test dataset."
      ]
    },
    {
      "cell_type": "code",
      "execution_count": null,
      "metadata": {
        "id": "PNEZ5ToYBEDW"
      },
      "outputs": [],
      "source": [
        "testpred = NN(alltraindata, alltrainlabel, testdata)\n",
        "testAccuracy = Accuracy(testlabel, testpred)\n",
        "\n",
        "print(\"Test accuracy:\", testAccuracy*100, \"%\")"
      ]
    },
    {
      "cell_type": "markdown",
      "metadata": {
        "id": "w3dGD531K3gH"
      },
      "source": [
        "### Try it out for yourself and answer:\n",
        "1. How is the accuracy of the validation set affected if we increase the percentage of validation set? What happens when we reduce it?\n",
        "2. How does the size of the train and validation set affect how well we can predict the accuracy on the test set using the validation set?\n",
        "3. What do you think is a good percentage to reserve for the validation set so that thest two factors are balanced?\n",
        "\n",
        "Answer for both nearest neighbour and random classifier. You can note down the values for your experiments and plot a graph using  <a href=https://matplotlib.org/stable/gallery/lines_bars_and_markers/step_demo.html#sphx-glr-gallery-lines-bars-and-markers-step-demo-py>plt.plot<href>. Check also for extreme values for splits, like 99.9% or 0.1%"
      ]
    },
    {
      "cell_type": "markdown",
      "metadata": {
        "id": "M9zvdYY6evgI"
      },
      "source": [
        "> Exercise: Try to implement a 3 nearest neighbour classifier and compare the accuracy of the 1 nearest neighbour classifier and the 3 nearest neighbour classifier on the test dataset. You can use the KNeighborsClassifier class from the scikit-learn library to implement the K-Nearest Neighbors model. You can set the number of neighbors using the n_neighbors parameter. You can also use the accuracy_score function from the scikit-learn library to calculate the accuracy of the model."
      ]
    },
    {
      "cell_type": "markdown",
      "metadata": {
        "id": "PnYvkAZLQY7h"
      },
      "source": [
        "## Multiple Splits\n",
        "\n",
        "One way to get more accurate estimates for the test accuracy is by using <b>cross-validation</b>. Here, we will try a simple version, where we do multiple train/val splits and take the average of validation accuracies as the test accuracy estimation. Here is a function for doing this. Note that this function will take a long time to execute. You can reduce the number of splits to make it faster."
      ]
    },
    {
      "cell_type": "code",
      "execution_count": null,
      "metadata": {
        "id": "E4nGCUQXBTzo"
      },
      "outputs": [],
      "source": [
        "def AverageAccuracy(alldata, alllabel, splitpercent, iterations, classifier=NN):\n",
        "    \"\"\"\n",
        "    This function takes in the data, labels, split percentage, number of iterations and classifier function\n",
        "    and returns the average accuracy of the classifier\n",
        "\n",
        "    alldata: numpy array of shape (n,d) where n is the number of samples and d is the number of features\n",
        "    alllabel: numpy array of shape (n,) where n is the number of samples\n",
        "    splitpercent: float which is the percentage of data to be used for training\n",
        "    iterations: int which is the number of iterations to run the classifier\n",
        "    classifier: function which is the classifier function to be used\n",
        "\n",
        "    returns: the average accuracy of the classifier\n",
        "    \"\"\"\n",
        "    accuracy = 0\n",
        "    for ii in range(iterations):\n",
        "        traindata, trainlabel, valdata, vallabel = split(\n",
        "            alldata, alllabel, splitpercent\n",
        "        )\n",
        "        valpred = classifier(traindata, trainlabel, valdata)\n",
        "        accuracy += Accuracy(vallabel, valpred)\n",
        "    return accuracy / iterations  # average of all accuracies"
      ]
    },
    {
      "cell_type": "code",
      "execution_count": null,
      "metadata": {
        "id": "H3qtNar7Bbik"
      },
      "outputs": [],
      "source": [
        "avg_acc = AverageAccuracy(alltraindata, alltrainlabel, 75 / 100, 10, classifier=NN)\n",
        "print(\"Average validation accuracy:\", avg_acc*100, \"%\")\n",
        "testpred = NN(alltraindata, alltrainlabel, testdata)\n",
        "\n",
        "print(\"Test accuracy:\", Accuracy(testlabel, testpred)*100, \"%\")"
      ]
    },
    {
      "cell_type": "markdown",
      "metadata": {
        "id": "33GIn4x5VH-d"
      },
      "source": [
        "This is a very simple way of doing cross-validation. There are many well-known algorithms for cross-validation, like k-fold cross-validation, leave-one-out etc. This will be covered in detail in a later module. For more information about cross-validation, check <a href=https://en.wikipedia.org/wiki/Cross-validation_(statistics)>Cross-validatioin (Wikipedia)</a>\n",
        "\n",
        "### Questions\n",
        "1. Does averaging the validation accuracy across multiple splits give more consistent results?\n",
        "2. Does it give more accurate estimate of test accuracy?\n",
        "3. What is the effect of the number of iterations on the estimate? Do we get a better estimate with higher iterations?\n",
        "4. Consider the results you got for the previous questions. Can we deal with a very small train dataset or validation dataset by increasing the iterations?\n"
      ]
    },
    {
      "cell_type": "markdown",
      "metadata": {
        "id": "z-SBxy1qevgJ"
      },
      "source": [
        "> Exercise: How does the accuracy of the 3 nearest neighbour classifier change with the number of splits? How is it affected by the split size? Compare the results with the 1 nearest neighbour classifier."
      ]
    },
    {
      "cell_type": "markdown",
      "source": [
        "Yes, averaging validation accuracy across multiple splits can provide more consistent results. This technique is known as:\n",
        "\n",
        "\n",
        "*K-Fold Cross-Validation*\n",
        "\n",
        "\n",
        "Benefits:\n",
        "\n",
        "\n",
        "1. Reduces overfitting: Averages out variability in validation sets.\n",
        "2. Improves generalization: Evaluates model performance on multiple subsets.\n",
        "3. Increases reliability: Provides a more robust estimate of model accuracy.\n",
        "\n",
        "\n",
        "How it works:\n",
        "\n",
        "\n",
        "1. Divide dataset into k subsets (folds).\n",
        "2. Train model on k-1 folds, validate on remaining fold.\n",
        "3. Repeat step 2 for each fold.\n",
        "4. Calculate average validation accuracy across all folds.\n",
        "\n",
        "\n",
        "*Advantages:*\n",
        "\n",
        "1. More accurate estimation of model performance.\n",
        "2. Reduces impact of lucky or unlucky splits.\n",
        "3. Helps hyperparameter tuning.\n",
        "\n",
        "\n",
        "*Common values for k:*\n",
        "\n",
        "1. k=5 (5-fold cross-validation)\n",
        "2. k=10 (10-fold cross-validation)\n",
        "\n",
        "\n",
        "*When to use:*\n",
        "\n",
        "1. Small datasets: Reduces overfitting.\n",
        "2. Imbalanced datasets: Helps evaluate model performance.\n",
        "3. Hyperparameter tuning: Provides robust estimates.\n",
        "\n",
        "\n",
        "*Code examples:*\n",
        "\n",
        "Python (scikit-learn):\n",
        "```\n",
        "from sklearn.model_selection import KFold\n",
        "from sklearn.metrics import accuracy_score\n",
        "\n",
        "kf = KFold(n_splits=5, shuffle=True)\n",
        "accuracies = []\n",
        "\n",
        "for train_index, val_index in kf.split(X):\n",
        "    X_train, X_val = X[train_index], X[val_index]\n",
        "    y_train, y_val = y[train_index], y[val_index]\n",
        "    \n",
        "    model.fit(X_train, y_train)\n",
        "    y_pred = model.predict(X_val)\n",
        "    accuracy = accuracy_score(y_val, y_pred)\n",
        "    accuracies.append(accuracy)\n",
        "\n",
        "avg_accuracy = np.mean(accuracies)\n",
        "```\n",
        "\n",
        "R (caret):\n",
        "```\n",
        "library(caret)\n",
        "train_control <- trainControl(method = \"cv\", number = 5)\n",
        "model <- train(x, y, method = \"rf\", trControl = train_control)\n",
        "```\n",
        "\n",
        "Would you like more information on cross-validation or hyperparameter tuning?"
      ],
      "metadata": {
        "id": "DVs6OzBvkwK1"
      }
    },
    {
      "cell_type": "markdown",
      "source": [
        "Yes, averaging validation accuracy across multiple splits (k-fold cross-validation) provides a more accurate estimate of test accuracy.\n",
        "\n",
        "\n",
        "_Why:_\n",
        "\n",
        "1. Reduces variability: Averages out fluctuations in validation sets.\n",
        "2. Better representation: Evaluates model performance on multiple subsets.\n",
        "3. Less dependent on single split: Reduces impact of lucky or unlucky splits.\n",
        "\n",
        "\n",
        "_Benefits:_\n",
        "\n",
        "1. Improved generalization estimate\n",
        "2. More reliable model comparison\n",
        "3. Better hyperparameter tuning\n",
        "\n",
        "\n",
        "_Conditions for accuracy:_\n",
        "\n",
        "1. Sufficient k: Increase k for smaller datasets.\n",
        "2. Representative folds: Ensure folds resemble test data.\n",
        "3. Independent validation: Keep validation sets separate.\n",
        "\n",
        "\n",
        "_Comparison to test accuracy:_\n",
        "\n",
        "1. Close approximation: K-fold CV accuracy ≈ test accuracy.\n",
        "2. Conservative estimate: K-fold CV accuracy ≤ test accuracy.\n",
        "\n",
        "\n",
        "_When to trust k-fold CV accuracy:_\n",
        "\n",
        "1. Large k (e.g., k=10).\n",
        "2. Small standard deviation across folds.\n",
        "3. Model stability across hyperparameters.\n",
        "\n",
        "\n",
        "_Additional considerations:_\n",
        "\n",
        "1. Stratified k-fold: Preserve class balance.\n",
        "2. Repeated k-fold: Average multiple runs.\n",
        "\n",
        "\n",
        "To further improve estimates:\n",
        "\n",
        "\n",
        "1. Use stratified k-fold.\n",
        "2. Increase k.\n",
        "3. Employ repeated k-fold.\n",
        "4. Monitor standard deviation.\n",
        "\n",
        "\n",
        "Would you like more information on:\n",
        "\n",
        "\n",
        "1. Stratified k-fold?\n",
        "2. Repeated k-fold?\n",
        "3. Hyperparameter tuning?\n",
        "4. Model evaluation metrics?"
      ],
      "metadata": {
        "id": "i2iR7hT6lACm"
      }
    },
    {
      "cell_type": "markdown",
      "source": [],
      "metadata": {
        "id": "VHI_6uGIlB_0"
      }
    },
    {
      "cell_type": "markdown",
      "source": [
        "The number of iterations (k) in k-fold cross-validation affects the estimate's precision and reliability.\n",
        "\n",
        "\n",
        "*Effects of increasing k:*\n",
        "\n",
        "1. *Reduced variability*: More iterations reduce fluctuations in validation scores.\n",
        "2. *Improved accuracy*: Better estimate of test accuracy.\n",
        "3. *Increased computational cost*: More iterations require more training and validation.\n",
        "\n",
        "\n",
        "*Benefits of higher k:*\n",
        "\n",
        "1. *More reliable estimate*: Averages out lucky/unlucky splits.\n",
        "2. *Better model comparison*: Compares models more accurately.\n",
        "3. *Improved hyperparameter tuning*: Optimizes hyperparameters more effectively.\n",
        "\n",
        "\n",
        "*Diminishing returns:*\n",
        "\n",
        "1. *Limited improvement*: Beyond k=10, gains diminish.\n",
        "2. *Computational cost*: Higher k increases training time.\n",
        "\n",
        "\n",
        "*Optimal k:*\n",
        "\n",
        "1. *k=5 or k=10*: Common choices for balancing accuracy and computational cost.\n",
        "2. *Dataset size*: Larger datasets may require smaller k.\n",
        "\n",
        "\n",
        "*Considerations:*\n",
        "\n",
        "1. *Computational resources*: Balance accuracy and training time.\n",
        "2. *Model complexity*: Simpler models may require fewer iterations.\n",
        "3. *Dataset characteristics*: Imbalanced datasets may benefit from stratified k-fold.\n",
        "\n",
        "\n",
        "*Visualization:*\n",
        "\n",
        "| k  | Variability | Accuracy | Computational Cost |\n",
        "|----|-------------|----------|--------------------|\n",
        "| 2  | High        | Low      | Low                |\n",
        "| 5  | Medium      | Medium   | Medium             |\n",
        "| 10 | Low         | High     | High               |\n",
        "| 20 | Very Low    | Very High| Very High          |\n",
        "\n",
        "\n",
        "To determine the optimal k for your specific problem:\n",
        "\n",
        "\n",
        "1. Monitor validation score variability.\n",
        "2. Evaluate computational resources.\n",
        "3. Consider dataset characteristics.\n",
        "\n",
        "\n",
        "Would you like more information on:\n",
        "\n",
        "\n",
        "1. Stratified k-fold?\n",
        "2. Repeated k-fold?\n",
        "3. Hyperparameter tuning?\n",
        "4. Model evaluation metrics?"
      ],
      "metadata": {
        "id": "ASFXX4TGlOz2"
      }
    },
    {
      "cell_type": "markdown",
      "source": [],
      "metadata": {
        "id": "B_bDGf0ZlQia"
      }
    },
    {
      "cell_type": "markdown",
      "source": [
        "Increasing iterations (k) in k-fold cross-validation can help alleviate issues with small train or validation datasets, but it's not a definitive solution.\n",
        "\n",
        "\n",
        "Benefits:\n",
        "\n",
        "\n",
        "1. Reduced variability: More iterations average out fluctuations.\n",
        "2. Improved estimate: Better representation of model performance.\n",
        "\n",
        "\n",
        "Limitations:\n",
        "\n",
        "\n",
        "1. Overfitting: Small datasets may still lead to overfitting.\n",
        "2. Computational cost: Higher k increases training time.\n",
        "\n",
        "\n",
        "When dealing with very small datasets:\n",
        "\n",
        "\n",
        "1. k-fold CV helps, but may not eliminate issues.\n",
        "2. Consider data augmentation (if applicable).\n",
        "3. Regularization techniques (e.g., dropout, L1/L2 reg).\n",
        "\n",
        "\n",
        "Minimum dataset size guidelines:\n",
        "\n",
        "\n",
        "1. Classification: 5-10 samples per class.\n",
        "2. Regression: 10-20 samples per feature.\n",
        "\n",
        "\n",
        "If dataset size is:\n",
        "\n",
        "\n",
        "1. <5 samples per class: Consider data augmentation or transfer learning.\n",
        "2. 5-10 samples per class: Use k-fold CV with caution.\n",
        "3. 10+ samples per class: K-fold CV is more reliable.\n",
        "\n",
        "\n",
        "To mitigate small dataset issues:\n",
        "\n",
        "\n",
        "1. Collect more data (if possible).\n",
        "2. Use transfer learning or pre-trained models.\n",
        "3. Employ regularization techniques.\n",
        "4. Consider Bayesian methods or semi-supervised learning.\n",
        "\n",
        "\n",
        "Keep in mind:\n",
        "\n",
        "\n",
        "1. K-fold CV is not a substitute for sufficient data.\n",
        "2. Small datasets may require specialized techniques.\n",
        "\n",
        "\n",
        "Would you like more information on:\n",
        "\n",
        "\n",
        "1. Data augmentation?\n",
        "2. Regularization techniques?\n",
        "3. Transfer learning?\n",
        "4. Bayesian methods?\n",
        "5. Semi-supervised learning?"
      ],
      "metadata": {
        "id": "JTtrWQAXldRz"
      }
    }
  ],
  "metadata": {
    "colab": {
      "provenance": [],
      "include_colab_link": true
    },
    "kernelspec": {
      "display_name": "Python 3",
      "name": "python3"
    },
    "language_info": {
      "codemirror_mode": {
        "name": "ipython",
        "version": 3
      },
      "file_extension": ".py",
      "mimetype": "text/x-python",
      "name": "python",
      "nbconvert_exporter": "python",
      "pygments_lexer": "ipython3",
      "version": "3.10.10"
    }
  },
  "nbformat": 4,
  "nbformat_minor": 0
}